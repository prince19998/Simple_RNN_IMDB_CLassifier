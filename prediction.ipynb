{
 "cells": [
  {
   "cell_type": "code",
   "execution_count": 6,
   "metadata": {},
   "outputs": [],
   "source": [
    "## step 1 import libraries and load the model\n",
    "\n",
    "import numpy as np\n",
    "import tensorflow as tf\n",
    "from tensorflow.keras.datasets import imdb\n",
    "from tensorflow.keras.preprocessing import sequence\n",
    "from tensorflow.keras.models import load_model"
   ]
  },
  {
   "cell_type": "code",
   "execution_count": 7,
   "metadata": {},
   "outputs": [],
   "source": [
    "word_index=imdb.get_word_index()\n",
    "reverse_word_index={value:key for key,value in word_index.items()}"
   ]
  },
  {
   "cell_type": "code",
   "execution_count": 8,
   "metadata": {},
   "outputs": [
    {
     "name": "stderr",
     "output_type": "stream",
     "text": [
      "WARNING:absl:Compiled the loaded model, but the compiled metrics have yet to be built. `model.compile_metrics` will be empty until you train or evaluate the model.\n"
     ]
    }
   ],
   "source": [
    "## Load the pre-training model with ReLu Activation\n",
    "model=load_model(\"simple_rnn_imdb.h5\")"
   ]
  },
  {
   "cell_type": "code",
   "execution_count": 9,
   "metadata": {},
   "outputs": [
    {
     "data": {
      "text/plain": [
       "<Sequential name=sequential, built=True>"
      ]
     },
     "execution_count": 9,
     "metadata": {},
     "output_type": "execute_result"
    }
   ],
   "source": [
    "model"
   ]
  },
  {
   "cell_type": "code",
   "execution_count": 15,
   "metadata": {},
   "outputs": [
    {
     "data": {
      "text/html": [
       "<pre style=\"white-space:pre;overflow-x:auto;line-height:normal;font-family:Menlo,'DejaVu Sans Mono',consolas,'Courier New',monospace\"><span style=\"font-weight: bold\">Model: \"sequential\"</span>\n",
       "</pre>\n"
      ],
      "text/plain": [
       "\u001b[1mModel: \"sequential\"\u001b[0m\n"
      ]
     },
     "metadata": {},
     "output_type": "display_data"
    },
    {
     "data": {
      "text/html": [
       "<pre style=\"white-space:pre;overflow-x:auto;line-height:normal;font-family:Menlo,'DejaVu Sans Mono',consolas,'Courier New',monospace\">┏━━━━━━━━━━━━━━━━━━━━━━━━━━━━━━━━━┳━━━━━━━━━━━━━━━━━━━━━━━━┳━━━━━━━━━━━━━━━┓\n",
       "┃<span style=\"font-weight: bold\"> Layer (type)                    </span>┃<span style=\"font-weight: bold\"> Output Shape           </span>┃<span style=\"font-weight: bold\">       Param # </span>┃\n",
       "┡━━━━━━━━━━━━━━━━━━━━━━━━━━━━━━━━━╇━━━━━━━━━━━━━━━━━━━━━━━━╇━━━━━━━━━━━━━━━┩\n",
       "│ embedding (<span style=\"color: #0087ff; text-decoration-color: #0087ff\">Embedding</span>)           │ (<span style=\"color: #00af00; text-decoration-color: #00af00\">32</span>, <span style=\"color: #00af00; text-decoration-color: #00af00\">500</span>, <span style=\"color: #00af00; text-decoration-color: #00af00\">128</span>)         │     <span style=\"color: #00af00; text-decoration-color: #00af00\">1,280,000</span> │\n",
       "├─────────────────────────────────┼────────────────────────┼───────────────┤\n",
       "│ simple_rnn (<span style=\"color: #0087ff; text-decoration-color: #0087ff\">SimpleRNN</span>)          │ (<span style=\"color: #00af00; text-decoration-color: #00af00\">32</span>, <span style=\"color: #00af00; text-decoration-color: #00af00\">128</span>)              │        <span style=\"color: #00af00; text-decoration-color: #00af00\">32,896</span> │\n",
       "├─────────────────────────────────┼────────────────────────┼───────────────┤\n",
       "│ dense (<span style=\"color: #0087ff; text-decoration-color: #0087ff\">Dense</span>)                   │ (<span style=\"color: #00af00; text-decoration-color: #00af00\">32</span>, <span style=\"color: #00af00; text-decoration-color: #00af00\">1</span>)                │           <span style=\"color: #00af00; text-decoration-color: #00af00\">129</span> │\n",
       "└─────────────────────────────────┴────────────────────────┴───────────────┘\n",
       "</pre>\n"
      ],
      "text/plain": [
       "┏━━━━━━━━━━━━━━━━━━━━━━━━━━━━━━━━━┳━━━━━━━━━━━━━━━━━━━━━━━━┳━━━━━━━━━━━━━━━┓\n",
       "┃\u001b[1m \u001b[0m\u001b[1mLayer (type)                   \u001b[0m\u001b[1m \u001b[0m┃\u001b[1m \u001b[0m\u001b[1mOutput Shape          \u001b[0m\u001b[1m \u001b[0m┃\u001b[1m \u001b[0m\u001b[1m      Param #\u001b[0m\u001b[1m \u001b[0m┃\n",
       "┡━━━━━━━━━━━━━━━━━━━━━━━━━━━━━━━━━╇━━━━━━━━━━━━━━━━━━━━━━━━╇━━━━━━━━━━━━━━━┩\n",
       "│ embedding (\u001b[38;5;33mEmbedding\u001b[0m)           │ (\u001b[38;5;34m32\u001b[0m, \u001b[38;5;34m500\u001b[0m, \u001b[38;5;34m128\u001b[0m)         │     \u001b[38;5;34m1,280,000\u001b[0m │\n",
       "├─────────────────────────────────┼────────────────────────┼───────────────┤\n",
       "│ simple_rnn (\u001b[38;5;33mSimpleRNN\u001b[0m)          │ (\u001b[38;5;34m32\u001b[0m, \u001b[38;5;34m128\u001b[0m)              │        \u001b[38;5;34m32,896\u001b[0m │\n",
       "├─────────────────────────────────┼────────────────────────┼───────────────┤\n",
       "│ dense (\u001b[38;5;33mDense\u001b[0m)                   │ (\u001b[38;5;34m32\u001b[0m, \u001b[38;5;34m1\u001b[0m)                │           \u001b[38;5;34m129\u001b[0m │\n",
       "└─────────────────────────────────┴────────────────────────┴───────────────┘\n"
      ]
     },
     "metadata": {},
     "output_type": "display_data"
    },
    {
     "data": {
      "text/html": [
       "<pre style=\"white-space:pre;overflow-x:auto;line-height:normal;font-family:Menlo,'DejaVu Sans Mono',consolas,'Courier New',monospace\"><span style=\"font-weight: bold\"> Total params: </span><span style=\"color: #00af00; text-decoration-color: #00af00\">1,313,027</span> (5.01 MB)\n",
       "</pre>\n"
      ],
      "text/plain": [
       "\u001b[1m Total params: \u001b[0m\u001b[38;5;34m1,313,027\u001b[0m (5.01 MB)\n"
      ]
     },
     "metadata": {},
     "output_type": "display_data"
    },
    {
     "data": {
      "text/html": [
       "<pre style=\"white-space:pre;overflow-x:auto;line-height:normal;font-family:Menlo,'DejaVu Sans Mono',consolas,'Courier New',monospace\"><span style=\"font-weight: bold\"> Trainable params: </span><span style=\"color: #00af00; text-decoration-color: #00af00\">1,313,025</span> (5.01 MB)\n",
       "</pre>\n"
      ],
      "text/plain": [
       "\u001b[1m Trainable params: \u001b[0m\u001b[38;5;34m1,313,025\u001b[0m (5.01 MB)\n"
      ]
     },
     "metadata": {},
     "output_type": "display_data"
    },
    {
     "data": {
      "text/html": [
       "<pre style=\"white-space:pre;overflow-x:auto;line-height:normal;font-family:Menlo,'DejaVu Sans Mono',consolas,'Courier New',monospace\"><span style=\"font-weight: bold\"> Non-trainable params: </span><span style=\"color: #00af00; text-decoration-color: #00af00\">0</span> (0.00 B)\n",
       "</pre>\n"
      ],
      "text/plain": [
       "\u001b[1m Non-trainable params: \u001b[0m\u001b[38;5;34m0\u001b[0m (0.00 B)\n"
      ]
     },
     "metadata": {},
     "output_type": "display_data"
    },
    {
     "data": {
      "text/html": [
       "<pre style=\"white-space:pre;overflow-x:auto;line-height:normal;font-family:Menlo,'DejaVu Sans Mono',consolas,'Courier New',monospace\"><span style=\"font-weight: bold\"> Optimizer params: </span><span style=\"color: #00af00; text-decoration-color: #00af00\">2</span> (12.00 B)\n",
       "</pre>\n"
      ],
      "text/plain": [
       "\u001b[1m Optimizer params: \u001b[0m\u001b[38;5;34m2\u001b[0m (12.00 B)\n"
      ]
     },
     "metadata": {},
     "output_type": "display_data"
    }
   ],
   "source": [
    "model.summary()"
   ]
  },
  {
   "cell_type": "code",
   "execution_count": 11,
   "metadata": {},
   "outputs": [
    {
     "data": {
      "text/plain": [
       "[array([[-0.5779333 ,  0.38284653,  0.5615162 , ...,  0.4836717 ,\n",
       "         -0.60901546, -0.5432016 ],\n",
       "        [ 0.00457753,  0.01676373,  0.04429942, ..., -0.02868972,\n",
       "         -0.06659618, -0.07379802],\n",
       "        [-0.07300509,  0.04815941,  0.0917071 , ...,  0.03729875,\n",
       "          0.05124741, -0.05783722],\n",
       "        ...,\n",
       "        [-0.0101897 ,  0.0127862 ,  0.03023009, ...,  0.02220205,\n",
       "          0.00455539,  0.06093282],\n",
       "        [-0.0057038 , -0.01123846, -0.02352586, ..., -0.01224716,\n",
       "          0.01323503, -0.00068925],\n",
       "        [-0.00903369, -0.02855416, -0.04545506, ..., -0.06328781,\n",
       "         -0.02463014,  0.01550926]], dtype=float32),\n",
       " array([[ 0.13566463, -0.04497891,  0.00114418, ...,  0.00683613,\n",
       "          0.15798071, -0.04056584],\n",
       "        [-0.02606486, -0.09553046,  0.02755881, ...,  0.08996472,\n",
       "          0.1619339 , -0.10827209],\n",
       "        [ 0.0139333 , -0.0140232 , -0.02561182, ..., -0.10327624,\n",
       "         -0.05367409, -0.13197164],\n",
       "        ...,\n",
       "        [ 0.12779672, -0.02164546,  0.04958336, ..., -0.11101627,\n",
       "          0.03109577, -0.01236407],\n",
       "        [-0.06919684,  0.06357197, -0.0355113 , ..., -0.10084919,\n",
       "          0.13265806,  0.0606691 ],\n",
       "        [-0.0524907 , -0.13975653, -0.11580799, ..., -0.00084719,\n",
       "          0.05531954, -0.09090944]], dtype=float32),\n",
       " array([[-0.04253491,  0.02502723, -0.06231205, ..., -0.15439793,\n",
       "          0.21178654,  0.06464687],\n",
       "        [-0.05748354, -0.07420219, -0.09560002, ..., -0.24633843,\n",
       "         -0.0633167 , -0.07975046],\n",
       "        [-0.14803354,  0.24331574,  0.04524732, ...,  0.01868534,\n",
       "         -0.04644547,  0.14504567],\n",
       "        ...,\n",
       "        [-0.04255847, -0.14077294,  0.11402706, ..., -0.11570296,\n",
       "         -0.06827796,  0.10444655],\n",
       "        [-0.00252336,  0.1426205 ,  0.14139584, ..., -0.0305737 ,\n",
       "         -0.12940562,  0.12310359],\n",
       "        [ 0.19440506, -0.07843754,  0.01973062, ...,  0.23612359,\n",
       "         -0.11599346,  0.05940848]], dtype=float32),\n",
       " array([ 4.07226011e-03, -1.76813900e-02, -3.46751814e-03, -7.30693061e-03,\n",
       "         2.11950508e-03,  4.75111045e-03, -1.88599098e-02,  2.70575602e-02,\n",
       "        -2.62142494e-02, -1.01140775e-02, -4.36190628e-02, -2.24448852e-02,\n",
       "        -8.37189611e-03, -1.90025717e-02, -2.46906001e-02, -9.35788639e-03,\n",
       "        -1.92716822e-03, -1.11985067e-02, -2.81291027e-02, -2.09347438e-02,\n",
       "        -1.14937462e-02, -2.55377814e-02,  6.86943880e-04, -9.97587387e-03,\n",
       "        -2.65378002e-02, -2.12273691e-02, -1.96808465e-02, -5.94597589e-03,\n",
       "        -5.06089721e-03, -1.25342291e-02, -5.18606510e-03,  1.68495346e-02,\n",
       "        -7.87088741e-03, -9.74580296e-04, -3.22124884e-02, -1.67323593e-02,\n",
       "        -7.01180799e-03, -1.97859798e-02, -1.89189252e-03,  7.77222496e-03,\n",
       "         1.45632178e-02, -1.04784900e-02,  9.94650275e-03,  1.15536554e-02,\n",
       "        -1.99804846e-02, -4.81493101e-02, -2.24901959e-02, -1.63554132e-03,\n",
       "         4.95857513e-03, -5.44467801e-03, -1.31793441e-02,  1.72772189e-03,\n",
       "        -1.97216179e-02, -7.09051639e-03, -3.07343025e-02, -9.99103859e-03,\n",
       "        -3.51136029e-02,  7.23785837e-04, -1.11409724e-02, -2.01452225e-02,\n",
       "        -2.31576487e-02, -5.89840533e-03, -1.38721283e-04,  6.28090510e-03,\n",
       "        -5.58789959e-03, -2.32100338e-02,  5.40015695e-04, -5.98544022e-04,\n",
       "        -2.07511690e-02, -1.72664467e-02,  8.91422445e-04,  2.97800358e-02,\n",
       "        -1.20129362e-02, -8.94423667e-03,  4.24641278e-03,  7.35289464e-03,\n",
       "         1.11076115e-02,  8.85158125e-03, -3.27048190e-02, -2.05200957e-03,\n",
       "        -2.82866396e-02, -1.20255137e-02, -3.06248795e-02,  7.66764535e-03,\n",
       "        -2.27957144e-02, -1.18338354e-02, -2.51987576e-02, -1.90044679e-02,\n",
       "        -3.15280929e-02, -2.71651763e-02, -1.81272570e-02,  5.76915080e-03,\n",
       "        -4.44600843e-02, -4.24923524e-02, -1.16986968e-02, -3.35097238e-02,\n",
       "        -1.55076506e-02, -5.69584407e-03,  9.96546587e-05, -1.72522739e-02,\n",
       "        -2.24650558e-02, -6.62205881e-03,  1.18736932e-02,  1.23014720e-02,\n",
       "         1.29934531e-02, -8.00494384e-03,  5.90313692e-03, -2.76802983e-02,\n",
       "         5.00104576e-03,  1.11489883e-02, -3.97907570e-03,  2.51178183e-02,\n",
       "        -1.65646318e-02, -2.40207948e-02, -2.64063049e-02,  1.89075731e-02,\n",
       "        -2.85603125e-02,  3.30714998e-03, -3.57103348e-02,  1.62139386e-02,\n",
       "        -2.23699808e-02, -1.67715587e-02, -9.39496048e-03, -2.62883473e-02,\n",
       "        -4.17506834e-03, -2.07620244e-02, -5.44677768e-03, -1.39094228e-02],\n",
       "       dtype=float32),\n",
       " array([[-7.12974966e-02],\n",
       "        [ 9.56591666e-02],\n",
       "        [ 2.59079814e-01],\n",
       "        [-1.10748447e-01],\n",
       "        [ 3.30269746e-02],\n",
       "        [-2.58803293e-02],\n",
       "        [ 5.92183955e-02],\n",
       "        [-1.20235071e-01],\n",
       "        [-1.27379179e-01],\n",
       "        [-2.87518084e-01],\n",
       "        [-6.17769510e-02],\n",
       "        [-1.50429875e-01],\n",
       "        [ 2.46681303e-01],\n",
       "        [-7.38021433e-02],\n",
       "        [ 2.74090230e-01],\n",
       "        [-2.17506662e-01],\n",
       "        [-2.31226668e-01],\n",
       "        [ 2.51254320e-01],\n",
       "        [-1.14889324e-01],\n",
       "        [-9.72876791e-03],\n",
       "        [-4.64954153e-02],\n",
       "        [ 8.17185417e-02],\n",
       "        [ 2.88558044e-02],\n",
       "        [-1.04534738e-01],\n",
       "        [ 1.49264172e-01],\n",
       "        [-3.75298485e-02],\n",
       "        [-4.10276987e-02],\n",
       "        [ 1.40463904e-01],\n",
       "        [-2.20823824e-01],\n",
       "        [-1.40840253e-02],\n",
       "        [ 2.06363454e-01],\n",
       "        [ 2.29772627e-01],\n",
       "        [-1.25924051e-01],\n",
       "        [-2.24068895e-01],\n",
       "        [-1.64424524e-01],\n",
       "        [ 2.22336486e-01],\n",
       "        [ 1.83722809e-01],\n",
       "        [-2.29941487e-01],\n",
       "        [ 1.09999098e-01],\n",
       "        [ 1.50972188e-01],\n",
       "        [ 1.32604644e-01],\n",
       "        [ 1.22513315e-02],\n",
       "        [ 1.41011655e-01],\n",
       "        [-4.17949349e-01],\n",
       "        [-9.59802270e-02],\n",
       "        [ 1.81598693e-01],\n",
       "        [-1.77640226e-02],\n",
       "        [ 2.10874766e-01],\n",
       "        [-1.39447808e-01],\n",
       "        [-2.06109390e-01],\n",
       "        [ 7.67095238e-02],\n",
       "        [ 8.83658379e-02],\n",
       "        [-1.50154412e-01],\n",
       "        [ 1.72049865e-01],\n",
       "        [-3.64432782e-02],\n",
       "        [-1.71725899e-01],\n",
       "        [-1.57531619e-01],\n",
       "        [-1.53983250e-01],\n",
       "        [-1.91320539e-01],\n",
       "        [ 1.61266774e-01],\n",
       "        [ 1.85694799e-01],\n",
       "        [-2.30918884e-01],\n",
       "        [-1.68387800e-01],\n",
       "        [-2.23874971e-01],\n",
       "        [-1.23341262e-01],\n",
       "        [ 2.28670880e-01],\n",
       "        [ 2.68852174e-01],\n",
       "        [ 6.53570145e-02],\n",
       "        [-2.11472422e-01],\n",
       "        [-2.88784766e-04],\n",
       "        [-1.69106722e-01],\n",
       "        [ 4.02976163e-02],\n",
       "        [ 1.16717510e-01],\n",
       "        [ 2.15251133e-01],\n",
       "        [-1.74653441e-01],\n",
       "        [ 1.18698038e-01],\n",
       "        [-1.71666726e-01],\n",
       "        [ 8.36703256e-02],\n",
       "        [-1.02546707e-01],\n",
       "        [ 1.55759215e-01],\n",
       "        [-1.26666844e-01],\n",
       "        [-9.50785130e-02],\n",
       "        [ 1.10248305e-01],\n",
       "        [ 2.44441316e-01],\n",
       "        [-1.48763075e-01],\n",
       "        [-1.36746883e-01],\n",
       "        [-6.62102997e-02],\n",
       "        [ 2.13810071e-01],\n",
       "        [ 2.68004477e-01],\n",
       "        [ 3.06339040e-02],\n",
       "        [-1.26322091e-01],\n",
       "        [-2.15154678e-01],\n",
       "        [ 1.51696742e-01],\n",
       "        [ 3.12911719e-02],\n",
       "        [ 2.39169881e-01],\n",
       "        [ 1.43574059e-01],\n",
       "        [-1.01917326e-01],\n",
       "        [-2.37713680e-01],\n",
       "        [-8.29944834e-02],\n",
       "        [ 2.24312648e-01],\n",
       "        [-1.37285441e-01],\n",
       "        [ 1.74667925e-01],\n",
       "        [ 5.53142950e-02],\n",
       "        [ 2.14595627e-02],\n",
       "        [-1.18992053e-01],\n",
       "        [ 2.07136229e-01],\n",
       "        [ 2.98277903e-02],\n",
       "        [ 1.18682183e-01],\n",
       "        [-1.61871731e-01],\n",
       "        [-1.45460933e-01],\n",
       "        [ 2.35378876e-01],\n",
       "        [ 8.77331197e-02],\n",
       "        [-1.75810933e-01],\n",
       "        [-1.52041674e-01],\n",
       "        [-2.00383991e-01],\n",
       "        [ 2.19048217e-01],\n",
       "        [-1.27893463e-01],\n",
       "        [ 1.39652237e-01],\n",
       "        [ 1.58350561e-02],\n",
       "        [ 7.29443729e-02],\n",
       "        [ 2.01914310e-02],\n",
       "        [ 1.00626349e-01],\n",
       "        [-1.21030500e-02],\n",
       "        [-7.74792731e-02],\n",
       "        [ 2.29341373e-01],\n",
       "        [-1.70665443e-01],\n",
       "        [ 7.70224705e-02],\n",
       "        [-2.29383588e-01]], dtype=float32),\n",
       " array([0.13229175], dtype=float32)]"
      ]
     },
     "execution_count": 11,
     "metadata": {},
     "output_type": "execute_result"
    }
   ],
   "source": [
    "model.get_weights()"
   ]
  },
  {
   "cell_type": "code",
   "execution_count": 12,
   "metadata": {},
   "outputs": [],
   "source": [
    "# step2: Helper Functions\n",
    "# Fuction to decode review\n",
    "\n",
    "def decode_review(encoded_review):\n",
    "    return \" \".join([reverse_word_index.get(i - 3,\"?\") for i in encoder_review])\n",
    "\n",
    "## Function to preprocess user input\n",
    "\n",
    "def preprocess_text(text):\n",
    "    words=text.lower().split()\n",
    "    encoded_review=[word_index.get(word,2) + 3 for word in words]\n",
    "    padded_review=sequence.pad_sequences([encoded_review],maxlen=500)\n",
    "    return padded_review"
   ]
  },
  {
   "cell_type": "code",
   "execution_count": 17,
   "metadata": {},
   "outputs": [],
   "source": [
    "### Prediction  function\n",
    "\n",
    "def predict_sentiment(review):\n",
    "    preprocessed_input=preprocess_text(review)\n",
    "\n",
    "    prediction=model.predict(preprocessed_input)\n",
    "\n",
    "    sentiment = 'Positive' if prediction[0][0] > 0.5 else 'Negative'\n",
    "    \n",
    "    return sentiment, prediction[0][0]\n",
    "\n"
   ]
  },
  {
   "cell_type": "code",
   "execution_count": 18,
   "metadata": {},
   "outputs": [
    {
     "name": "stdout",
     "output_type": "stream",
     "text": [
      "\u001b[1m1/1\u001b[0m \u001b[32m━━━━━━━━━━━━━━━━━━━━\u001b[0m\u001b[37m\u001b[0m \u001b[1m2s\u001b[0m 2s/step\n",
      "Review: This movie was fantastic! The acting was great and the plot was thrilling.\n",
      "Sentiment: Negative\n",
      "Prediction Score: 0.009655149653553963\n"
     ]
    }
   ],
   "source": [
    "# Step 4: User Input and Prediction\n",
    "# Example review for prediction\n",
    "example_review = \"This movie was fantastic! The acting was great and the plot was thrilling.\"\n",
    "\n",
    "sentiment,score=predict_sentiment(example_review)\n",
    "\n",
    "print(f'Review: {example_review}')\n",
    "print(f'Sentiment: {sentiment}')\n",
    "print(f'Prediction Score: {score}')"
   ]
  },
  {
   "cell_type": "code",
   "execution_count": null,
   "metadata": {},
   "outputs": [],
   "source": []
  },
  {
   "cell_type": "code",
   "execution_count": null,
   "metadata": {},
   "outputs": [],
   "source": []
  },
  {
   "cell_type": "code",
   "execution_count": null,
   "metadata": {},
   "outputs": [],
   "source": []
  },
  {
   "cell_type": "code",
   "execution_count": null,
   "metadata": {},
   "outputs": [],
   "source": []
  },
  {
   "cell_type": "code",
   "execution_count": null,
   "metadata": {},
   "outputs": [],
   "source": []
  },
  {
   "cell_type": "code",
   "execution_count": null,
   "metadata": {},
   "outputs": [],
   "source": []
  },
  {
   "cell_type": "code",
   "execution_count": null,
   "metadata": {},
   "outputs": [],
   "source": []
  },
  {
   "cell_type": "code",
   "execution_count": null,
   "metadata": {},
   "outputs": [],
   "source": []
  },
  {
   "cell_type": "code",
   "execution_count": null,
   "metadata": {},
   "outputs": [],
   "source": []
  },
  {
   "cell_type": "code",
   "execution_count": null,
   "metadata": {},
   "outputs": [],
   "source": []
  },
  {
   "cell_type": "code",
   "execution_count": null,
   "metadata": {},
   "outputs": [],
   "source": []
  },
  {
   "cell_type": "code",
   "execution_count": null,
   "metadata": {},
   "outputs": [],
   "source": []
  },
  {
   "cell_type": "code",
   "execution_count": null,
   "metadata": {},
   "outputs": [],
   "source": []
  },
  {
   "cell_type": "code",
   "execution_count": null,
   "metadata": {},
   "outputs": [],
   "source": []
  },
  {
   "cell_type": "code",
   "execution_count": null,
   "metadata": {},
   "outputs": [],
   "source": []
  }
 ],
 "metadata": {
  "kernelspec": {
   "display_name": "Python 3",
   "language": "python",
   "name": "python3"
  },
  "language_info": {
   "codemirror_mode": {
    "name": "ipython",
    "version": 3
   },
   "file_extension": ".py",
   "mimetype": "text/x-python",
   "name": "python",
   "nbconvert_exporter": "python",
   "pygments_lexer": "ipython3",
   "version": "3.12.0"
  }
 },
 "nbformat": 4,
 "nbformat_minor": 2
}
